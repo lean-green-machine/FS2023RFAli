{
 "cells": [
  {
   "cell_type": "code",
   "execution_count": null,
   "id": "acda2f22",
   "metadata": {},
   "outputs": [],
   "source": [
    "import cv2\n",
    "vidcap = cv2.VideoCapture('MP2a-MP2b.mp4')\n",
    "success,image = vidcap.read()\n",
    "count = 0\n",
    "skip = 0\n",
    "while success:\n",
    "    skip += 1\n",
    "    success,image = vidcap.read()\n",
    "    print('Read a new frame: ', success)\n",
    "    if skip==47:\n",
    "        count += 1\n",
    "        cv2.imwrite(\"frame%d.jpg\" % count, image)# save frame as JPEG file\n",
    "        skip = 0"
   ]
  }
 ],
 "metadata": {
  "kernelspec": {
   "display_name": "Python 3 (ipykernel)",
   "language": "python",
   "name": "python3"
  },
  "language_info": {
   "codemirror_mode": {
    "name": "ipython",
    "version": 3
   },
   "file_extension": ".py",
   "mimetype": "text/x-python",
   "name": "python",
   "nbconvert_exporter": "python",
   "pygments_lexer": "ipython3",
   "version": "3.11.5"
  }
 },
 "nbformat": 4,
 "nbformat_minor": 5
}
