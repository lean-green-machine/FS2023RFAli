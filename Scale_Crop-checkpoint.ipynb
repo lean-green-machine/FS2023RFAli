{
 "cells": [
  {
   "cell_type": "code",
   "execution_count": 9,
   "id": "9853edf2-23b5-4bad-945d-2764e507f701",
   "metadata": {
    "scrolled": false,
    "tags": []
   },
   "outputs": [],
   "source": [
    "# Import packages\n",
    "import cv2\n",
    "import numpy as np\n",
    "count = 1;\n",
    "\n",
    "while (count<788):\n",
    "    img = cv2.imread('frame%d.jpg' % count)\n",
    "    if (type(img) is np.ndarray):\n",
    "        # Cropping an image\n",
    "        cropped_image = img[979:1303, 353:2593]\n",
    "        # Save the cropped image\n",
    "        cv2.imwrite(\"crop%d.jpg\" % count, cropped_image)\n",
    "    count += 1\n",
    "    \n",
    "cv2.waitKey(0)\n",
    "cv2.destroyAllWindows()"
   ]
  },
  {
   "cell_type": "code",
   "execution_count": null,
   "id": "acda2f22",
   "metadata": {},
   "outputs": [],
   "source": []
  }
 ],
 "metadata": {
  "kernelspec": {
   "display_name": "Python 3 (ipykernel)",
   "language": "python",
   "name": "python3"
  },
  "language_info": {
   "codemirror_mode": {
    "name": "ipython",
    "version": 3
   },
   "file_extension": ".py",
   "mimetype": "text/x-python",
   "name": "python",
   "nbconvert_exporter": "python",
   "pygments_lexer": "ipython3",
   "version": "3.11.5"
  }
 },
 "nbformat": 4,
 "nbformat_minor": 5
}
