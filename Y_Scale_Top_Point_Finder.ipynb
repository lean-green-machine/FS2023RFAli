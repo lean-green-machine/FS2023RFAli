{
 "cells": [
  {
   "cell_type": "code",
   "execution_count": 9,
   "id": "6b46aeff",
   "metadata": {},
   "outputs": [
    {
     "name": "stdout",
     "output_type": "stream",
     "text": [
      "42\n"
     ]
    }
   ],
   "source": [
    "import cv2\n",
    "import numpy as np\n",
    "\n",
    "image = cv2.imread(\"scale12.jpg\")#Reads in image file\n",
    "cv2.imshow(\"Image\",image) #Displays image\n",
    "cv2.waitKey(0) #Awaits user to press key\n",
    "gray = cv2.cvtColor(image,cv2.COLOR_BGR2GRAY) #Converts image to grayscale\n",
    "cv2.imshow(\"Image\",gray) #Displays grayscaled image\n",
    "indices = np.where(gray <= 120) #Returns 2 arrays of y and x coordinates, respectively, of each pixel that is NOT white (255)\n",
    "#sort indices by x...:\n",
    "coordinates = list((zip(indices[1],indices[0]))) #zips up x array and y array to make coordinate list\n",
    "cv2.waitKey(0)\n",
    "\n",
    "print(indices[0][0] + 4)"
   ]
  },
  {
   "cell_type": "code",
   "execution_count": null,
   "id": "b2768967",
   "metadata": {},
   "outputs": [],
   "source": [
    " "
   ]
  },
  {
   "cell_type": "code",
   "execution_count": null,
   "id": "f232bd5b",
   "metadata": {},
   "outputs": [],
   "source": []
  }
 ],
 "metadata": {
  "kernelspec": {
   "display_name": "Python 3 (ipykernel)",
   "language": "python",
   "name": "python3"
  },
  "language_info": {
   "codemirror_mode": {
    "name": "ipython",
    "version": 3
   },
   "file_extension": ".py",
   "mimetype": "text/x-python",
   "name": "python",
   "nbconvert_exporter": "python",
   "pygments_lexer": "ipython3",
   "version": "3.11.5"
  }
 },
 "nbformat": 4,
 "nbformat_minor": 5
}
